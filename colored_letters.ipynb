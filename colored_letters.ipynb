{
 "cells": [
  {
   "cell_type": "code",
   "execution_count": 1,
   "metadata": {},
   "outputs": [],
   "source": [
    "import matplotlib.pyplot as plt\n",
    "import numpy as np"
   ]
  },
  {
   "cell_type": "code",
   "execution_count": 2,
   "metadata": {},
   "outputs": [
    {
     "data": {
      "text/plain": [
       "['D',\n",
       " 'A',\n",
       " 'E',\n",
       " 'F',\n",
       " 'R',\n",
       " 'H',\n",
       " 'D',\n",
       " 'S',\n",
       " 'G',\n",
       " 'Y',\n",
       " 'E',\n",
       " 'V',\n",
       " 'H',\n",
       " 'H',\n",
       " 'Q',\n",
       " 'K',\n",
       " 'L',\n",
       " 'V',\n",
       " 'F',\n",
       " 'F',\n",
       " 'A',\n",
       " 'E',\n",
       " 'D',\n",
       " 'V',\n",
       " 'G',\n",
       " 'S',\n",
       " 'N',\n",
       " 'K',\n",
       " 'G',\n",
       " 'A',\n",
       " 'I',\n",
       " 'I',\n",
       " 'G',\n",
       " 'L',\n",
       " 'M',\n",
       " 'V',\n",
       " 'G',\n",
       " 'G',\n",
       " 'V',\n",
       " 'V',\n",
       " 'I',\n",
       " 'A']"
      ]
     },
     "execution_count": 2,
     "metadata": {},
     "output_type": "execute_result"
    }
   ],
   "source": [
    "letters = list('DAEFRHDSGYEVHHQKLVFFAEDVGSNKGAIIGLMVGGVVIA')\n",
    "letters"
   ]
  },
  {
   "cell_type": "code",
   "execution_count": 3,
   "metadata": {},
   "outputs": [
    {
     "data": {
      "text/plain": [
       "[(0.0020005404949188232, 0.0, 1.0),\n",
       " (0.0, 0.0, 1.0),\n",
       " (0.0, 0.0, 1.0),\n",
       " (0.0, 0.05679969862103462, 1.0),\n",
       " (0.0, 0.1967996507883072, 1.0),\n",
       " (0.0, 0.43039941787719727, 1.0),\n",
       " (0.0, 0.6235992908477783, 1.0),\n",
       " (0.0, 0.7495992183685303, 1.0),\n",
       " (0.0, 0.8391994833946228, 1.0),\n",
       " (0.0, 0.8895994424819946, 1.0),\n",
       " (0.0, 1.0, 0.9592005610466003),\n",
       " (0.0, 1.0, 0.8584006428718567),\n",
       " (0.0, 1.0, 0.7112009525299072),\n",
       " (0.0, 1.0, 0.5180010199546814),\n",
       " (0.0, 1.0, 0.3332010507583618),\n",
       " (0.0, 1.0, 0.1712007224559784),\n",
       " (0.0, 1.0, 0.03680076822638512),\n",
       " (0.09759902954101562, 1.0, 0.0),\n",
       " (0.22279852628707886, 1.0, 0.0),\n",
       " (0.4411984384059906, 1.0, 0.0),\n",
       " (0.6511983871459961, 1.0, 0.0),\n",
       " (0.7603983879089355, 1.0, 0.0),\n",
       " (0.8743988871574402, 1.0, 0.0),\n",
       " (0.9583988785743713, 1.0, 0.0),\n",
       " (1.0, 0.9620005488395691, 0.0),\n",
       " (1.0, 0.9368005394935608, 0.0),\n",
       " (1.0, 0.8964008688926697, 0.0),\n",
       " (1.0, 0.8250008821487427, 0.0),\n",
       " (1.0, 0.7242009043693542, 0.0),\n",
       " (1.0, 0.6822009682655334, 0.0),\n",
       " (1.0, 0.6276009678840637, 0.0),\n",
       " (1.0, 0.5512006282806396, 0.0),\n",
       " (1.0, 0.48400068283081055, 0.0),\n",
       " (1.0, 0.4560006856918335, 0.0),\n",
       " (1.0, 0.388800710439682, 0.0),\n",
       " (1.0, 0.3328007161617279, 0.0),\n",
       " (1.0, 0.27400073409080505, 0.0),\n",
       " (1.0, 0.246000736951828, 0.0),\n",
       " (1.0, 0.2208007425069809, 0.0),\n",
       " (1.0, 0.12400149554014206, 0.0),\n",
       " (1.0, 0.0008015394560061395, 0.0),\n",
       " (1.0, 0.0, 0.0)]"
      ]
     },
     "execution_count": 3,
     "metadata": {},
     "output_type": "execute_result"
    }
   ],
   "source": [
    "color_codes = [tuple(a) for a in np.loadtxt('color-codes.txt')]\n",
    "color_codes"
   ]
  },
  {
   "cell_type": "code",
   "execution_count": 4,
   "metadata": {},
   "outputs": [
    {
     "data": {
      "image/png": "[encoded data removed]",
      "text/plain": [
       "<Figure size 1200x400 with 1 Axes>"
      ]
     },
     "metadata": {},
     "output_type": "display_data"
    }
   ],
   "source": [
    "plt.figure(figsize=(12,4))\n",
    "plt.axis('off')\n",
    "X=[x for x in range(42)]\n",
    "plt.plot(X,np.ones(len(X)),linewidth=0)\n",
    "for i in range(len(letters)):\n",
    "    plt.text(i,1.01,letters[i],color=color_codes[i],fontsize=20,family='monospace',fontweight='bold')\n",
    "plt.savefig('colored_sequence.png',dpi=220,transparent=True)"
   ]
  },
  {
   "cell_type": "code",
   "execution_count": null,
   "metadata": {},
   "outputs": [],
   "source": []
  }
 ],
 "metadata": {
  "kernelspec": {
   "display_name": "base",
   "language": "python",
   "name": "python3"
  },
  "language_info": {
   "codemirror_mode": {
    "name": "ipython",
    "version": 3
   },
   "file_extension": ".py",
   "mimetype": "text/x-python",
   "name": "python",
   "nbconvert_exporter": "python",
   "pygments_lexer": "ipython3",
   "version": "3.10.13"
  }
 },
 "nbformat": 4,
 "nbformat_minor": 2
}
